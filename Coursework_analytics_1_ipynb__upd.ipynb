{
 "cells": [
  {
   "cell_type": "markdown",
   "metadata": {
    "id": "JQsyqveCDh8X"
   },
   "source": [
    "# Практикум №1\n",
    "## Аналитика. Начальный уровень\n",
    "\n",
    "<br><br>\n",
    "**Описание работы:**\n",
    "\n",
    "Перед вами стоит бизнес-задача: на основании имеющихся данных подготовить аналитический отчёт, который в дальнейшем поможет продюсерам образовательных программ эффективно выстраивать стратегию по модернизированию и улучшению курсов. В начале отчёта предлагается оформить ёмкий описательный блок по каждому курсу на основании рассчитанных показателей. Далее — посчитать потенциальную нагрузку на преподавателей, чтобы оценить необходимость расширения штата сотрудников. Затем идёт блок из двух пунктов по анализу качества контента курсов, где необходимо выявить проблемные модули, которые, возможно, требуют доработки. Также стоит задача выявить потенциальную сезонность. Наконец, предложено задание для самостоятельной разработки метрики успеваемости студентов для нахождения тех, кто значительно хуже справляется с прохождением курса. Каждый из пунктов анализа предполагается сопроводить аналитическим выводом на основании рассчитанных метрик.\n",
    "<br><br>\n",
    "_________\n",
    "Обозначения:<br><br>\n",
    "&nbsp;&nbsp;&nbsp;&nbsp;**(p)** — задание нужно выполнить инструментами Pandas, **использование циклов for/while НЕ допускается**. <br>\n",
    "&nbsp;&nbsp;&nbsp;&nbsp;**(m)** — задание нужно выполнить инструментами Matplotlib или Seaborn, использование циклов for/while допускается; <br>\n",
    "&nbsp;&nbsp;&nbsp;&nbsp;⭐ — необязательное задание повышенной сложности.\n",
    "_________\n",
    "\n",
    "**Содержание работы:** <br>\n",
    "[Codebook](#Codebook) <br>\n",
    "[1. Описание и начальная работа с данными](#1.-Описание-и-начальная-работа-с-данными)<br>\n",
    "[2. Расчёт потенциальной нагрузки на преподавателей](#2.-Расчет-потенциальной-нагрузки-на-преподавателей)<br>\n",
    "[3. Выявление проблемных модулей](#3.-Выявление-проблемных-модулей)<br>\n",
    "[4. Расчёт конверсии](#4.-Расчет-конверсии) <br>\n",
    "[5. Метрика успеваемости ](#5.-Метрика-успеваемости)"
   ]
  },
  {
   "cell_type": "markdown",
   "metadata": {
    "id": "AkDBXsmFDh8c"
   },
   "source": [
    "## Codebook\n",
    "\n",
    "`courses.csv` содержит следующие значения: <br><br>\n",
    "&nbsp;&nbsp;&nbsp;&nbsp; `id` — идентификатор курса, <br>\n",
    "&nbsp;&nbsp;&nbsp;&nbsp; `title` — название курса, <br>\n",
    "&nbsp;&nbsp;&nbsp;&nbsp;  `field` — сфера, к которой относится курс. <br> <br><br>\n",
    "`students.csv` содержит следующие значения: <br><br>\n",
    "&nbsp;&nbsp;&nbsp;&nbsp; `id` — идентификатор студента, <br>\n",
    "&nbsp;&nbsp;&nbsp;&nbsp; `city` — город студента, <br>\n",
    "&nbsp;&nbsp;&nbsp;&nbsp;  `birthday` — день рождения студента. <br> <br><br>\n",
    "`course_contents.csv` содержит следующие значения: <br><br>\n",
    "&nbsp;&nbsp;&nbsp;&nbsp; `course_id` — идентификатор курса, <br>\n",
    "&nbsp;&nbsp;&nbsp;&nbsp; `module_number` — номер модуля, <br>\n",
    "&nbsp;&nbsp;&nbsp;&nbsp;  `module_title` — название модуля, <br> \n",
    "&nbsp;&nbsp;&nbsp;&nbsp; `lesson_number` — номер урока, <br>\n",
    "&nbsp;&nbsp;&nbsp;&nbsp;  `lesson_title` — название урока, <br>\n",
    "&nbsp;&nbsp;&nbsp;&nbsp;  `lesson_token` — токен урока, <br> \n",
    "&nbsp;&nbsp;&nbsp;&nbsp; `is_video` — наличие видео *(true/false)*, <br>\n",
    "&nbsp;&nbsp;&nbsp;&nbsp;  `is_homework` — наличие домашней работы *(true/false)*. <br>\n",
    "<br><br>\n",
    "`progresses.csv` содержит следующие значения: <br><br>\n",
    "&nbsp;&nbsp;&nbsp;&nbsp; `id` — идентификатор прогресса, <br>\n",
    "&nbsp;&nbsp;&nbsp;&nbsp; `student_id` — идентификатор студента, <br>\n",
    "&nbsp;&nbsp;&nbsp;&nbsp;  `course_id` — идентификатор курса, <br> <br><br>\n",
    "`progress_phases.csv` содержит следующие значения: <br><br>\n",
    "&nbsp;&nbsp;&nbsp;&nbsp; `progress_id` — идентификатор прогресса, <br>\n",
    "&nbsp;&nbsp;&nbsp;&nbsp; `module_number` — номер модуля, <br>\n",
    "&nbsp;&nbsp;&nbsp;&nbsp; `lesson_number` — номер урока, <br>\n",
    "&nbsp;&nbsp;&nbsp;&nbsp;  `status` — статус прохождения урока, <br>\n",
    "&nbsp;&nbsp;&nbsp;&nbsp;  `start_date` — дата начала, <br> \n",
    "&nbsp;&nbsp;&nbsp;&nbsp; `finish_date` — дата окончания. <br>\n",
    "<br><br>"
   ]
  },
  {
   "cell_type": "code",
   "execution_count": 1,
   "metadata": {},
   "outputs": [],
   "source": [
    "# Подключение библиотек\n",
    "import pandas as pd\n",
    "import matplotlib.pyplot as plt\n",
    "import seaborn as sns\n",
    "from datetime import datetime"
   ]
  },
  {
   "cell_type": "markdown",
   "metadata": {
    "id": "HmLoCayvDh8d"
   },
   "source": [
    "## 1. Описание и начальная работа с данными\n",
    "\n",
    "Подготовьте данные и опишите их. Данные реальные и содержат пропущенные значения, а также лишние относительно друг друга данные. <br>\n",
    "\n",
    "Объедините датасеты (кроме `students.scv`) в один общий для дальнейшей работы. Отдельный датасет создайте для расчёта среднего возраста студентов курсов (отдельный датасет со `students.scv` нужен, чтобы не потерять значения в основном датасете из-за того, что не по всем студентам есть анкетные данные о дате рождения). <br><br>\n",
    "\n",
    "<details>\n",
    "<summary><b>Hint #1</b></summary>\n",
    "    <p>\n",
    "Для объединения датасетов нужно использовать pandas метод <a href=\"https://www.shanelynn.ie/merge-join-dataframes-python-pandas-index-1/#mergetypes\">merge()</a>.\n",
    "    </p>\n",
    "    <br>\n",
    "</details>\n",
    "<details>\n",
    "<summary><b>Hint #2</b></summary>\n",
    "    <p>\n",
    "В итоговом датасете должно получиться 350677 строк. Ошибок памяти при таком количестве строк в датасете не будет. \n",
    "    </p>\n",
    "    <br>\n",
    "</details>\n",
    "\n",
    "\n",
    "Опишите данные: <br>\n",
    "1. **(p)** Посчитайте\n",
    "<ol type=\"a\">\n",
    "  <li>общее количество курсов в датасете;</li>\n",
    "  <li>количество модулей на каждом курсе;</li>\n",
    "  <li>количество уроков в каждом модуле на каждом курсе;</li>\n",
    "  <li>медианное количество уроков в модуле на каждом курсе;</li>\n",
    "  <li>количество учеников на каждом курсе;</li>\n",
    "  <li>минимальный, максимальный, средний, медианный возраст студентов *(чтобы отсечь некорректные значения, в данном случае достаточно установить правдоподобный диапазон на ваше усмотрение)*;</li>\n",
    "  <li>минимальный, максимальный, средний, медианный возраст студентов на каждом курсе.</li>\n",
    "</ol>\n",
    "2. **(m)** Постройте bar-chart, отражающий количество студентов на каждом курсе. Ticks нужно развернуть так, чтобы они были читаемы.\n",
    "3. **(m)** Постройте горизонтальный (столбцы должны располагаться горизонтально) bar-chart, отражающий количество студентов на каждом курсе. График должен иметь заголовок. Значения должны быть отсортированы. Цвет столбцов должен содержать информацию о сфере, к которой относится курс (то есть нужна легенда). Прозрачность должна стоять на отметке 0.5. На график должна быть нанесена линия медианы. У медианы должен быть свой цвет. Рамки у графика быть не должно ⭐\n",
    "<details>\n",
    "<summary><b>Hint #1</b></summary>\n",
    "    <p>\n",
    "График удобно строить, если сначала подготовить таблицу для него через метод <a href=\"https://pandas.pydata.org/docs/reference/api/pandas.DataFrame.unstack.html\">unstack()</a>, чтобы «горизонтальные» колонки были по сферам курсов (4 колонки), а «вертикальные» по самим курсам (15 колонок-строк). \n",
    "    </p>\n",
    "    <img src=\"https://miro.medium.com/max/1400/1*DYDOif_qBEgtWfFKUDSf0Q.png\" alt=\"Stack/Unstack\">\n",
    "    <br>\n",
    "</details>\n",
    "4.     На основании рассчитанных значений опишите данные (описание должно быть полным и покрывать все полученные выше метрики).\n",
    "\n",
    "_____________________________________________________________________\n"
   ]
  },
  {
   "cell_type": "markdown",
   "metadata": {},
   "source": [
    "### 1) Проверяем данные в course_contents"
   ]
  },
  {
   "cell_type": "code",
   "execution_count": 6,
   "metadata": {
    "id": "til-1GnKDh8e"
   },
   "outputs": [
    {
     "data": {
      "text/html": [
       "<div>\n",
       "<style scoped>\n",
       "    .dataframe tbody tr th:only-of-type {\n",
       "        vertical-align: middle;\n",
       "    }\n",
       "\n",
       "    .dataframe tbody tr th {\n",
       "        vertical-align: top;\n",
       "    }\n",
       "\n",
       "    .dataframe thead th {\n",
       "        text-align: right;\n",
       "    }\n",
       "</style>\n",
       "<table border=\"1\" class=\"dataframe\">\n",
       "  <thead>\n",
       "    <tr style=\"text-align: right;\">\n",
       "      <th></th>\n",
       "      <th>course_id</th>\n",
       "      <th>module_number</th>\n",
       "      <th>module_title</th>\n",
       "      <th>lesson_number</th>\n",
       "      <th>lesson_title</th>\n",
       "      <th>lesson_token</th>\n",
       "      <th>is_video</th>\n",
       "      <th>is_homework</th>\n",
       "    </tr>\n",
       "  </thead>\n",
       "  <tbody>\n",
       "    <tr>\n",
       "      <th>0</th>\n",
       "      <td>04ba6d0b40670c43a209141fa01fa784</td>\n",
       "      <td>1</td>\n",
       "      <td>Введение в Motion Design. Тренды, разновидност...</td>\n",
       "      <td>1</td>\n",
       "      <td>Знакомство</td>\n",
       "      <td>aa344de3-1191-4e69-b485-61823118f71c</td>\n",
       "      <td>True</td>\n",
       "      <td>False</td>\n",
       "    </tr>\n",
       "    <tr>\n",
       "      <th>1</th>\n",
       "      <td>04ba6d0b40670c43a209141fa01fa784</td>\n",
       "      <td>1</td>\n",
       "      <td>Введение в Motion Design. Тренды, разновидност...</td>\n",
       "      <td>2</td>\n",
       "      <td>Введение в Motion Design. Тренды, разновидност...</td>\n",
       "      <td>246c8429-dd18-4f3a-a9fb-d3c07e7d6912</td>\n",
       "      <td>True</td>\n",
       "      <td>False</td>\n",
       "    </tr>\n",
       "    <tr>\n",
       "      <th>2</th>\n",
       "      <td>04ba6d0b40670c43a209141fa01fa784</td>\n",
       "      <td>1</td>\n",
       "      <td>Введение в Motion Design. Тренды, разновидност...</td>\n",
       "      <td>3</td>\n",
       "      <td>Домашняя работа</td>\n",
       "      <td>c4377574-d117-45c7-8da5-dd7d1923517d</td>\n",
       "      <td>False</td>\n",
       "      <td>True</td>\n",
       "    </tr>\n",
       "    <tr>\n",
       "      <th>3</th>\n",
       "      <td>04ba6d0b40670c43a209141fa01fa784</td>\n",
       "      <td>2</td>\n",
       "      <td>12 принципов анимации от Walt Disney Studio</td>\n",
       "      <td>1</td>\n",
       "      <td>Интро</td>\n",
       "      <td>7ea16a2d-e6d1-4158-907f-ae0ce8379c45</td>\n",
       "      <td>True</td>\n",
       "      <td>False</td>\n",
       "    </tr>\n",
       "    <tr>\n",
       "      <th>4</th>\n",
       "      <td>04ba6d0b40670c43a209141fa01fa784</td>\n",
       "      <td>2</td>\n",
       "      <td>12 принципов анимации от Walt Disney Studio</td>\n",
       "      <td>2</td>\n",
       "      <td>12 принципов анимации</td>\n",
       "      <td>7eea2930-11db-45c9-a16c-0d800b6dc99d</td>\n",
       "      <td>True</td>\n",
       "      <td>False</td>\n",
       "    </tr>\n",
       "  </tbody>\n",
       "</table>\n",
       "</div>"
      ],
      "text/plain": [
       "                          course_id  module_number  \\\n",
       "0  04ba6d0b40670c43a209141fa01fa784              1   \n",
       "1  04ba6d0b40670c43a209141fa01fa784              1   \n",
       "2  04ba6d0b40670c43a209141fa01fa784              1   \n",
       "3  04ba6d0b40670c43a209141fa01fa784              2   \n",
       "4  04ba6d0b40670c43a209141fa01fa784              2   \n",
       "\n",
       "                                        module_title  lesson_number  \\\n",
       "0  Введение в Motion Design. Тренды, разновидност...              1   \n",
       "1  Введение в Motion Design. Тренды, разновидност...              2   \n",
       "2  Введение в Motion Design. Тренды, разновидност...              3   \n",
       "3        12 принципов анимации от Walt Disney Studio              1   \n",
       "4        12 принципов анимации от Walt Disney Studio              2   \n",
       "\n",
       "                                        lesson_title  \\\n",
       "0                                         Знакомство   \n",
       "1  Введение в Motion Design. Тренды, разновидност...   \n",
       "2                                    Домашняя работа   \n",
       "3                                              Интро   \n",
       "4                              12 принципов анимации   \n",
       "\n",
       "                           lesson_token  is_video  is_homework  \n",
       "0  aa344de3-1191-4e69-b485-61823118f71c      True        False  \n",
       "1  246c8429-dd18-4f3a-a9fb-d3c07e7d6912      True        False  \n",
       "2  c4377574-d117-45c7-8da5-dd7d1923517d     False         True  \n",
       "3  7ea16a2d-e6d1-4158-907f-ae0ce8379c45      True        False  \n",
       "4  7eea2930-11db-45c9-a16c-0d800b6dc99d      True        False  "
      ]
     },
     "execution_count": 6,
     "metadata": {},
     "output_type": "execute_result"
    }
   ],
   "source": [
    "course_contents_df = pd.read_csv('Data/course_contents.csv')\n",
    "course_contents_df.head()"
   ]
  },
  {
   "cell_type": "code",
   "execution_count": 7,
   "metadata": {},
   "outputs": [
    {
     "name": "stdout",
     "output_type": "stream",
     "text": [
      "<class 'pandas.core.frame.DataFrame'>\n",
      "RangeIndex: 1201 entries, 0 to 1200\n",
      "Data columns (total 8 columns):\n",
      " #   Column         Non-Null Count  Dtype \n",
      "---  ------         --------------  ----- \n",
      " 0   course_id      1201 non-null   object\n",
      " 1   module_number  1201 non-null   int64 \n",
      " 2   module_title   1201 non-null   object\n",
      " 3   lesson_number  1201 non-null   int64 \n",
      " 4   lesson_title   1201 non-null   object\n",
      " 5   lesson_token   1201 non-null   object\n",
      " 6   is_video       1201 non-null   bool  \n",
      " 7   is_homework    1201 non-null   bool  \n",
      "dtypes: bool(2), int64(2), object(4)\n",
      "memory usage: 58.8+ KB\n"
     ]
    }
   ],
   "source": [
    "course_contents_df.info()"
   ]
  },
  {
   "cell_type": "code",
   "execution_count": 8,
   "metadata": {
    "scrolled": true
   },
   "outputs": [
    {
     "data": {
      "text/html": [
       "<div>\n",
       "<style scoped>\n",
       "    .dataframe tbody tr th:only-of-type {\n",
       "        vertical-align: middle;\n",
       "    }\n",
       "\n",
       "    .dataframe tbody tr th {\n",
       "        vertical-align: top;\n",
       "    }\n",
       "\n",
       "    .dataframe thead th {\n",
       "        text-align: right;\n",
       "    }\n",
       "</style>\n",
       "<table border=\"1\" class=\"dataframe\">\n",
       "  <thead>\n",
       "    <tr style=\"text-align: right;\">\n",
       "      <th></th>\n",
       "      <th>course_id</th>\n",
       "      <th>module_number</th>\n",
       "      <th>module_title</th>\n",
       "      <th>lesson_number</th>\n",
       "      <th>lesson_title</th>\n",
       "      <th>lesson_token</th>\n",
       "      <th>is_video</th>\n",
       "      <th>is_homework</th>\n",
       "    </tr>\n",
       "  </thead>\n",
       "  <tbody>\n",
       "  </tbody>\n",
       "</table>\n",
       "</div>"
      ],
      "text/plain": [
       "Empty DataFrame\n",
       "Columns: [course_id, module_number, module_title, lesson_number, lesson_title, lesson_token, is_video, is_homework]\n",
       "Index: []"
      ]
     },
     "execution_count": 8,
     "metadata": {},
     "output_type": "execute_result"
    }
   ],
   "source": [
    "course_contents_df[course_contents_df.duplicated()]"
   ]
  },
  {
   "cell_type": "code",
   "execution_count": 9,
   "metadata": {},
   "outputs": [
    {
     "data": {
      "text/html": [
       "<div>\n",
       "<style scoped>\n",
       "    .dataframe tbody tr th:only-of-type {\n",
       "        vertical-align: middle;\n",
       "    }\n",
       "\n",
       "    .dataframe tbody tr th {\n",
       "        vertical-align: top;\n",
       "    }\n",
       "\n",
       "    .dataframe thead th {\n",
       "        text-align: right;\n",
       "    }\n",
       "</style>\n",
       "<table border=\"1\" class=\"dataframe\">\n",
       "  <thead>\n",
       "    <tr style=\"text-align: right;\">\n",
       "      <th></th>\n",
       "      <th>course_id</th>\n",
       "      <th>module_number</th>\n",
       "      <th>module_title</th>\n",
       "      <th>lesson_number</th>\n",
       "      <th>lesson_title</th>\n",
       "      <th>lesson_token</th>\n",
       "      <th>is_video</th>\n",
       "      <th>is_homework</th>\n",
       "    </tr>\n",
       "  </thead>\n",
       "  <tbody>\n",
       "  </tbody>\n",
       "</table>\n",
       "</div>"
      ],
      "text/plain": [
       "Empty DataFrame\n",
       "Columns: [course_id, module_number, module_title, lesson_number, lesson_title, lesson_token, is_video, is_homework]\n",
       "Index: []"
      ]
     },
     "execution_count": 9,
     "metadata": {},
     "output_type": "execute_result"
    }
   ],
   "source": [
    "course_contents_df[course_contents_df.duplicated(subset=['course_id', 'lesson_token'])]"
   ]
  },
  {
   "cell_type": "markdown",
   "metadata": {},
   "source": [
    "### 2) Проверяем данные в courses"
   ]
  },
  {
   "cell_type": "code",
   "execution_count": 10,
   "metadata": {},
   "outputs": [
    {
     "data": {
      "text/html": [
       "<div>\n",
       "<style scoped>\n",
       "    .dataframe tbody tr th:only-of-type {\n",
       "        vertical-align: middle;\n",
       "    }\n",
       "\n",
       "    .dataframe tbody tr th {\n",
       "        vertical-align: top;\n",
       "    }\n",
       "\n",
       "    .dataframe thead th {\n",
       "        text-align: right;\n",
       "    }\n",
       "</style>\n",
       "<table border=\"1\" class=\"dataframe\">\n",
       "  <thead>\n",
       "    <tr style=\"text-align: right;\">\n",
       "      <th></th>\n",
       "      <th>id</th>\n",
       "      <th>title</th>\n",
       "      <th>field</th>\n",
       "    </tr>\n",
       "  </thead>\n",
       "  <tbody>\n",
       "    <tr>\n",
       "      <th>0</th>\n",
       "      <td>943306102e5b067d08a29094f37b8193</td>\n",
       "      <td>Java-разработчик c нуля</td>\n",
       "      <td>Development</td>\n",
       "    </tr>\n",
       "    <tr>\n",
       "      <th>1</th>\n",
       "      <td>17013cd19d25cb3f28dc1b2683721bb9</td>\n",
       "      <td>Веб-дизайн Базовый</td>\n",
       "      <td>Design</td>\n",
       "    </tr>\n",
       "    <tr>\n",
       "      <th>2</th>\n",
       "      <td>ac634845fb0350d0e9d49078aaa4b68f</td>\n",
       "      <td>Excel Базовый</td>\n",
       "      <td>Business</td>\n",
       "    </tr>\n",
       "    <tr>\n",
       "      <th>3</th>\n",
       "      <td>0770b1b039964228294f1f34b29fc2c1</td>\n",
       "      <td>Руководитель digital-проектов</td>\n",
       "      <td>Business</td>\n",
       "    </tr>\n",
       "    <tr>\n",
       "      <th>4</th>\n",
       "      <td>abce125a877c2196a3bc7bfbc11b5fc5</td>\n",
       "      <td>Веб-вёрстка для начинающих 2.0</td>\n",
       "      <td>Development</td>\n",
       "    </tr>\n",
       "  </tbody>\n",
       "</table>\n",
       "</div>"
      ],
      "text/plain": [
       "                                 id                           title  \\\n",
       "0  943306102e5b067d08a29094f37b8193         Java-разработчик c нуля   \n",
       "1  17013cd19d25cb3f28dc1b2683721bb9              Веб-дизайн Базовый   \n",
       "2  ac634845fb0350d0e9d49078aaa4b68f                   Excel Базовый   \n",
       "3  0770b1b039964228294f1f34b29fc2c1   Руководитель digital-проектов   \n",
       "4  abce125a877c2196a3bc7bfbc11b5fc5  Веб-вёрстка для начинающих 2.0   \n",
       "\n",
       "         field  \n",
       "0  Development  \n",
       "1       Design  \n",
       "2     Business  \n",
       "3     Business  \n",
       "4  Development  "
      ]
     },
     "execution_count": 10,
     "metadata": {},
     "output_type": "execute_result"
    }
   ],
   "source": [
    "courses_df = pd.read_csv('Data/courses.csv', index_col=[0])\n",
    "courses_df.head()"
   ]
  },
  {
   "cell_type": "code",
   "execution_count": 11,
   "metadata": {},
   "outputs": [
    {
     "name": "stdout",
     "output_type": "stream",
     "text": [
      "<class 'pandas.core.frame.DataFrame'>\n",
      "Index: 15 entries, 0 to 14\n",
      "Data columns (total 3 columns):\n",
      " #   Column  Non-Null Count  Dtype \n",
      "---  ------  --------------  ----- \n",
      " 0   id      15 non-null     object\n",
      " 1   title   15 non-null     object\n",
      " 2   field   15 non-null     object\n",
      "dtypes: object(3)\n",
      "memory usage: 480.0+ bytes\n"
     ]
    }
   ],
   "source": [
    "courses_df.info()"
   ]
  },
  {
   "cell_type": "code",
   "execution_count": 12,
   "metadata": {},
   "outputs": [
    {
     "data": {
      "text/html": [
       "<div>\n",
       "<style scoped>\n",
       "    .dataframe tbody tr th:only-of-type {\n",
       "        vertical-align: middle;\n",
       "    }\n",
       "\n",
       "    .dataframe tbody tr th {\n",
       "        vertical-align: top;\n",
       "    }\n",
       "\n",
       "    .dataframe thead th {\n",
       "        text-align: right;\n",
       "    }\n",
       "</style>\n",
       "<table border=\"1\" class=\"dataframe\">\n",
       "  <thead>\n",
       "    <tr style=\"text-align: right;\">\n",
       "      <th></th>\n",
       "      <th>id</th>\n",
       "      <th>title</th>\n",
       "      <th>field</th>\n",
       "    </tr>\n",
       "  </thead>\n",
       "  <tbody>\n",
       "  </tbody>\n",
       "</table>\n",
       "</div>"
      ],
      "text/plain": [
       "Empty DataFrame\n",
       "Columns: [id, title, field]\n",
       "Index: []"
      ]
     },
     "execution_count": 12,
     "metadata": {},
     "output_type": "execute_result"
    }
   ],
   "source": [
    "courses_df[courses_df.duplicated()]"
   ]
  },
  {
   "cell_type": "code",
   "execution_count": 13,
   "metadata": {},
   "outputs": [
    {
     "data": {
      "text/html": [
       "<div>\n",
       "<style scoped>\n",
       "    .dataframe tbody tr th:only-of-type {\n",
       "        vertical-align: middle;\n",
       "    }\n",
       "\n",
       "    .dataframe tbody tr th {\n",
       "        vertical-align: top;\n",
       "    }\n",
       "\n",
       "    .dataframe thead th {\n",
       "        text-align: right;\n",
       "    }\n",
       "</style>\n",
       "<table border=\"1\" class=\"dataframe\">\n",
       "  <thead>\n",
       "    <tr style=\"text-align: right;\">\n",
       "      <th></th>\n",
       "      <th>id</th>\n",
       "      <th>title</th>\n",
       "      <th>field</th>\n",
       "    </tr>\n",
       "  </thead>\n",
       "  <tbody>\n",
       "  </tbody>\n",
       "</table>\n",
       "</div>"
      ],
      "text/plain": [
       "Empty DataFrame\n",
       "Columns: [id, title, field]\n",
       "Index: []"
      ]
     },
     "execution_count": 13,
     "metadata": {},
     "output_type": "execute_result"
    }
   ],
   "source": [
    "courses_df[courses_df.duplicated(subset=['id', 'title'])]"
   ]
  },
  {
   "cell_type": "code",
   "execution_count": 14,
   "metadata": {},
   "outputs": [
    {
     "data": {
      "text/html": [
       "<div>\n",
       "<style scoped>\n",
       "    .dataframe tbody tr th:only-of-type {\n",
       "        vertical-align: middle;\n",
       "    }\n",
       "\n",
       "    .dataframe tbody tr th {\n",
       "        vertical-align: top;\n",
       "    }\n",
       "\n",
       "    .dataframe thead th {\n",
       "        text-align: right;\n",
       "    }\n",
       "</style>\n",
       "<table border=\"1\" class=\"dataframe\">\n",
       "  <thead>\n",
       "    <tr style=\"text-align: right;\">\n",
       "      <th></th>\n",
       "      <th>id</th>\n",
       "      <th>title</th>\n",
       "      <th>field</th>\n",
       "    </tr>\n",
       "  </thead>\n",
       "  <tbody>\n",
       "  </tbody>\n",
       "</table>\n",
       "</div>"
      ],
      "text/plain": [
       "Empty DataFrame\n",
       "Columns: [id, title, field]\n",
       "Index: []"
      ]
     },
     "execution_count": 14,
     "metadata": {},
     "output_type": "execute_result"
    }
   ],
   "source": [
    "courses_df[courses_df.duplicated(subset=['id'])]"
   ]
  },
  {
   "cell_type": "code",
   "execution_count": 15,
   "metadata": {},
   "outputs": [],
   "source": [
    "courses_df.rename(columns = {'id':'course_id'}, inplace=True)"
   ]
  },
  {
   "cell_type": "code",
   "execution_count": 16,
   "metadata": {},
   "outputs": [
    {
     "data": {
      "text/plain": [
       "['course_id', 'title', 'field']"
      ]
     },
     "execution_count": 16,
     "metadata": {},
     "output_type": "execute_result"
    }
   ],
   "source": [
    "list(courses_df)"
   ]
  },
  {
   "cell_type": "markdown",
   "metadata": {},
   "source": [
    "### 3) Проверяем данные в progress_phases"
   ]
  },
  {
   "cell_type": "code",
   "execution_count": 17,
   "metadata": {},
   "outputs": [
    {
     "data": {
      "text/html": [
       "<div>\n",
       "<style scoped>\n",
       "    .dataframe tbody tr th:only-of-type {\n",
       "        vertical-align: middle;\n",
       "    }\n",
       "\n",
       "    .dataframe tbody tr th {\n",
       "        vertical-align: top;\n",
       "    }\n",
       "\n",
       "    .dataframe thead th {\n",
       "        text-align: right;\n",
       "    }\n",
       "</style>\n",
       "<table border=\"1\" class=\"dataframe\">\n",
       "  <thead>\n",
       "    <tr style=\"text-align: right;\">\n",
       "      <th></th>\n",
       "      <th>progress_id</th>\n",
       "      <th>module_number</th>\n",
       "      <th>lesson_number</th>\n",
       "      <th>status</th>\n",
       "      <th>start_date</th>\n",
       "      <th>finish_date</th>\n",
       "    </tr>\n",
       "  </thead>\n",
       "  <tbody>\n",
       "    <tr>\n",
       "      <th>0</th>\n",
       "      <td>a387ab916f402cb3fbfffd29f68fd0ce</td>\n",
       "      <td>2</td>\n",
       "      <td>4</td>\n",
       "      <td>done</td>\n",
       "      <td>2018-06-23 08:28:50.681065+00</td>\n",
       "      <td>2018-06-23 08:28:52.439542+00</td>\n",
       "    </tr>\n",
       "    <tr>\n",
       "      <th>1</th>\n",
       "      <td>a387ab916f402cb3fbfffd29f68fd0ce</td>\n",
       "      <td>1</td>\n",
       "      <td>1</td>\n",
       "      <td>done</td>\n",
       "      <td>2018-06-20 14:25:21.783762+00</td>\n",
       "      <td>2018-06-20 15:45:07.717209+00</td>\n",
       "    </tr>\n",
       "    <tr>\n",
       "      <th>2</th>\n",
       "      <td>a387ab916f402cb3fbfffd29f68fd0ce</td>\n",
       "      <td>2</td>\n",
       "      <td>2</td>\n",
       "      <td>done</td>\n",
       "      <td>2018-06-23 08:18:09.653771+00</td>\n",
       "      <td>2018-06-23 08:18:12.784616+00</td>\n",
       "    </tr>\n",
       "    <tr>\n",
       "      <th>3</th>\n",
       "      <td>a387ab916f402cb3fbfffd29f68fd0ce</td>\n",
       "      <td>1</td>\n",
       "      <td>4</td>\n",
       "      <td>done</td>\n",
       "      <td>2018-06-20 16:00:06.36178+00</td>\n",
       "      <td>2018-06-21 19:09:30.845034+00</td>\n",
       "    </tr>\n",
       "    <tr>\n",
       "      <th>4</th>\n",
       "      <td>a387ab916f402cb3fbfffd29f68fd0ce</td>\n",
       "      <td>1</td>\n",
       "      <td>6</td>\n",
       "      <td>done</td>\n",
       "      <td>2018-06-21 19:10:36.957891+00</td>\n",
       "      <td>2018-06-28 15:59:25.320418+00</td>\n",
       "    </tr>\n",
       "  </tbody>\n",
       "</table>\n",
       "</div>"
      ],
      "text/plain": [
       "                        progress_id  module_number  lesson_number status  \\\n",
       "0  a387ab916f402cb3fbfffd29f68fd0ce              2              4   done   \n",
       "1  a387ab916f402cb3fbfffd29f68fd0ce              1              1   done   \n",
       "2  a387ab916f402cb3fbfffd29f68fd0ce              2              2   done   \n",
       "3  a387ab916f402cb3fbfffd29f68fd0ce              1              4   done   \n",
       "4  a387ab916f402cb3fbfffd29f68fd0ce              1              6   done   \n",
       "\n",
       "                      start_date                    finish_date  \n",
       "0  2018-06-23 08:28:50.681065+00  2018-06-23 08:28:52.439542+00  \n",
       "1  2018-06-20 14:25:21.783762+00  2018-06-20 15:45:07.717209+00  \n",
       "2  2018-06-23 08:18:09.653771+00  2018-06-23 08:18:12.784616+00  \n",
       "3   2018-06-20 16:00:06.36178+00  2018-06-21 19:09:30.845034+00  \n",
       "4  2018-06-21 19:10:36.957891+00  2018-06-28 15:59:25.320418+00  "
      ]
     },
     "execution_count": 17,
     "metadata": {},
     "output_type": "execute_result"
    }
   ],
   "source": [
    "progress_phases_df = pd.read_csv('Data/progress_phases.csv')\n",
    "progress_phases_df.head()"
   ]
  },
  {
   "cell_type": "code",
   "execution_count": 18,
   "metadata": {},
   "outputs": [
    {
     "name": "stdout",
     "output_type": "stream",
     "text": [
      "<class 'pandas.core.frame.DataFrame'>\n",
      "RangeIndex: 350677 entries, 0 to 350676\n",
      "Data columns (total 6 columns):\n",
      " #   Column         Non-Null Count   Dtype \n",
      "---  ------         --------------   ----- \n",
      " 0   progress_id    350677 non-null  object\n",
      " 1   module_number  350677 non-null  int64 \n",
      " 2   lesson_number  350677 non-null  int64 \n",
      " 3   status         350677 non-null  object\n",
      " 4   start_date     350677 non-null  object\n",
      " 5   finish_date    334508 non-null  object\n",
      "dtypes: int64(2), object(4)\n",
      "memory usage: 16.1+ MB\n"
     ]
    }
   ],
   "source": [
    "progress_phases_df.info()"
   ]
  },
  {
   "cell_type": "code",
   "execution_count": 19,
   "metadata": {},
   "outputs": [
    {
     "data": {
      "text/html": [
       "<div>\n",
       "<style scoped>\n",
       "    .dataframe tbody tr th:only-of-type {\n",
       "        vertical-align: middle;\n",
       "    }\n",
       "\n",
       "    .dataframe tbody tr th {\n",
       "        vertical-align: top;\n",
       "    }\n",
       "\n",
       "    .dataframe thead th {\n",
       "        text-align: right;\n",
       "    }\n",
       "</style>\n",
       "<table border=\"1\" class=\"dataframe\">\n",
       "  <thead>\n",
       "    <tr style=\"text-align: right;\">\n",
       "      <th></th>\n",
       "      <th>progress_id</th>\n",
       "      <th>module_number</th>\n",
       "      <th>lesson_number</th>\n",
       "      <th>status</th>\n",
       "      <th>start_date</th>\n",
       "      <th>finish_date</th>\n",
       "    </tr>\n",
       "  </thead>\n",
       "  <tbody>\n",
       "  </tbody>\n",
       "</table>\n",
       "</div>"
      ],
      "text/plain": [
       "Empty DataFrame\n",
       "Columns: [progress_id, module_number, lesson_number, status, start_date, finish_date]\n",
       "Index: []"
      ]
     },
     "execution_count": 19,
     "metadata": {},
     "output_type": "execute_result"
    }
   ],
   "source": [
    "progress_phases_df[progress_phases_df.duplicated()]"
   ]
  },
  {
   "cell_type": "markdown",
   "metadata": {},
   "source": [
    "### 4) Проверяем данные в progresses"
   ]
  },
  {
   "cell_type": "code",
   "execution_count": 20,
   "metadata": {},
   "outputs": [
    {
     "data": {
      "text/html": [
       "<div>\n",
       "<style scoped>\n",
       "    .dataframe tbody tr th:only-of-type {\n",
       "        vertical-align: middle;\n",
       "    }\n",
       "\n",
       "    .dataframe tbody tr th {\n",
       "        vertical-align: top;\n",
       "    }\n",
       "\n",
       "    .dataframe thead th {\n",
       "        text-align: right;\n",
       "    }\n",
       "</style>\n",
       "<table border=\"1\" class=\"dataframe\">\n",
       "  <thead>\n",
       "    <tr style=\"text-align: right;\">\n",
       "      <th></th>\n",
       "      <th>id</th>\n",
       "      <th>student_id</th>\n",
       "      <th>course_id</th>\n",
       "    </tr>\n",
       "  </thead>\n",
       "  <tbody>\n",
       "    <tr>\n",
       "      <th>0</th>\n",
       "      <td>8459fbc07e32ec92bd7b43d7df9bfa89</td>\n",
       "      <td>a6ae278c0eab719b3784e5ea147c128f</td>\n",
       "      <td>0770b1b039964228294f1f34b29fc2c1</td>\n",
       "    </tr>\n",
       "    <tr>\n",
       "      <th>1</th>\n",
       "      <td>a9d173142534e33ce39146017f9c6835</td>\n",
       "      <td>e24062de06d301937b3b3a8e383e3e21</td>\n",
       "      <td>bf27a4bf4ada4c756451703ea62a914f</td>\n",
       "    </tr>\n",
       "    <tr>\n",
       "      <th>2</th>\n",
       "      <td>da26551a71cd62bbab844e3e54af7f71</td>\n",
       "      <td>35a36d90b745992b59085c8d54a072e7</td>\n",
       "      <td>6e4837f0a65c68efbfdd0594d6774701</td>\n",
       "    </tr>\n",
       "    <tr>\n",
       "      <th>3</th>\n",
       "      <td>cda22f5fb5b5dcfad42b59b91b1938dc</td>\n",
       "      <td>37e8e8179295ae764524223086b0b568</td>\n",
       "      <td>abce125a877c2196a3bc7bfbc11b5fc5</td>\n",
       "    </tr>\n",
       "    <tr>\n",
       "      <th>4</th>\n",
       "      <td>5ead083521d7f2284a43290c743aa93b</td>\n",
       "      <td>37e8e8179295ae764524223086b0b568</td>\n",
       "      <td>17013cd19d25cb3f28dc1b2683721bb9</td>\n",
       "    </tr>\n",
       "  </tbody>\n",
       "</table>\n",
       "</div>"
      ],
      "text/plain": [
       "                                 id                        student_id  \\\n",
       "0  8459fbc07e32ec92bd7b43d7df9bfa89  a6ae278c0eab719b3784e5ea147c128f   \n",
       "1  a9d173142534e33ce39146017f9c6835  e24062de06d301937b3b3a8e383e3e21   \n",
       "2  da26551a71cd62bbab844e3e54af7f71  35a36d90b745992b59085c8d54a072e7   \n",
       "3  cda22f5fb5b5dcfad42b59b91b1938dc  37e8e8179295ae764524223086b0b568   \n",
       "4  5ead083521d7f2284a43290c743aa93b  37e8e8179295ae764524223086b0b568   \n",
       "\n",
       "                          course_id  \n",
       "0  0770b1b039964228294f1f34b29fc2c1  \n",
       "1  bf27a4bf4ada4c756451703ea62a914f  \n",
       "2  6e4837f0a65c68efbfdd0594d6774701  \n",
       "3  abce125a877c2196a3bc7bfbc11b5fc5  \n",
       "4  17013cd19d25cb3f28dc1b2683721bb9  "
      ]
     },
     "execution_count": 20,
     "metadata": {},
     "output_type": "execute_result"
    }
   ],
   "source": [
    "progresses_df = pd.read_csv('Data/progresses.csv')\n",
    "progresses_df.head()"
   ]
  },
  {
   "cell_type": "code",
   "execution_count": 21,
   "metadata": {
    "scrolled": true
   },
   "outputs": [
    {
     "name": "stdout",
     "output_type": "stream",
     "text": [
      "<class 'pandas.core.frame.DataFrame'>\n",
      "RangeIndex: 15934 entries, 0 to 15933\n",
      "Data columns (total 3 columns):\n",
      " #   Column      Non-Null Count  Dtype \n",
      "---  ------      --------------  ----- \n",
      " 0   id          15934 non-null  object\n",
      " 1   student_id  15934 non-null  object\n",
      " 2   course_id   15934 non-null  object\n",
      "dtypes: object(3)\n",
      "memory usage: 373.6+ KB\n"
     ]
    }
   ],
   "source": [
    "progresses_df.info()"
   ]
  },
  {
   "cell_type": "code",
   "execution_count": 22,
   "metadata": {},
   "outputs": [
    {
     "data": {
      "text/html": [
       "<div>\n",
       "<style scoped>\n",
       "    .dataframe tbody tr th:only-of-type {\n",
       "        vertical-align: middle;\n",
       "    }\n",
       "\n",
       "    .dataframe tbody tr th {\n",
       "        vertical-align: top;\n",
       "    }\n",
       "\n",
       "    .dataframe thead th {\n",
       "        text-align: right;\n",
       "    }\n",
       "</style>\n",
       "<table border=\"1\" class=\"dataframe\">\n",
       "  <thead>\n",
       "    <tr style=\"text-align: right;\">\n",
       "      <th></th>\n",
       "      <th>id</th>\n",
       "      <th>student_id</th>\n",
       "      <th>course_id</th>\n",
       "    </tr>\n",
       "  </thead>\n",
       "  <tbody>\n",
       "  </tbody>\n",
       "</table>\n",
       "</div>"
      ],
      "text/plain": [
       "Empty DataFrame\n",
       "Columns: [id, student_id, course_id]\n",
       "Index: []"
      ]
     },
     "execution_count": 22,
     "metadata": {},
     "output_type": "execute_result"
    }
   ],
   "source": [
    "progresses_df[progresses_df.duplicated()]"
   ]
  },
  {
   "cell_type": "code",
   "execution_count": 23,
   "metadata": {},
   "outputs": [],
   "source": [
    "progresses_df.rename(columns = {'id':'progress_id'}, inplace=True)"
   ]
  },
  {
   "cell_type": "code",
   "execution_count": 24,
   "metadata": {},
   "outputs": [
    {
     "data": {
      "text/plain": [
       "['progress_id', 'student_id', 'course_id']"
      ]
     },
     "execution_count": 24,
     "metadata": {},
     "output_type": "execute_result"
    }
   ],
   "source": [
    "list(progresses_df)"
   ]
  },
  {
   "cell_type": "markdown",
   "metadata": {},
   "source": [
    "### 5) Проверяем данные в students"
   ]
  },
  {
   "cell_type": "code",
   "execution_count": 25,
   "metadata": {},
   "outputs": [
    {
     "data": {
      "text/html": [
       "<div>\n",
       "<style scoped>\n",
       "    .dataframe tbody tr th:only-of-type {\n",
       "        vertical-align: middle;\n",
       "    }\n",
       "\n",
       "    .dataframe tbody tr th {\n",
       "        vertical-align: top;\n",
       "    }\n",
       "\n",
       "    .dataframe thead th {\n",
       "        text-align: right;\n",
       "    }\n",
       "</style>\n",
       "<table border=\"1\" class=\"dataframe\">\n",
       "  <thead>\n",
       "    <tr style=\"text-align: right;\">\n",
       "      <th></th>\n",
       "      <th>id_</th>\n",
       "      <th>id</th>\n",
       "      <th>city</th>\n",
       "      <th>birthday</th>\n",
       "    </tr>\n",
       "  </thead>\n",
       "  <tbody>\n",
       "    <tr>\n",
       "      <th>0</th>\n",
       "      <td>1325</td>\n",
       "      <td>35e8a1938b9a33d5e45c8f4451c4309a</td>\n",
       "      <td>NaN</td>\n",
       "      <td>NaN</td>\n",
       "    </tr>\n",
       "    <tr>\n",
       "      <th>1</th>\n",
       "      <td>7503</td>\n",
       "      <td>6c3e52be632fc50de9640147e4017dcd</td>\n",
       "      <td>Москва</td>\n",
       "      <td>1979-10-23</td>\n",
       "    </tr>\n",
       "    <tr>\n",
       "      <th>2</th>\n",
       "      <td>8972</td>\n",
       "      <td>2033122d7c9b24b36eebc468d5259642</td>\n",
       "      <td>NaN</td>\n",
       "      <td>NaN</td>\n",
       "    </tr>\n",
       "    <tr>\n",
       "      <th>3</th>\n",
       "      <td>9235</td>\n",
       "      <td>a6ae278c0eab719b3784e5ea147c128f</td>\n",
       "      <td>Москва</td>\n",
       "      <td>NaN</td>\n",
       "    </tr>\n",
       "    <tr>\n",
       "      <th>4</th>\n",
       "      <td>9588</td>\n",
       "      <td>51b25c9afd20d178ef3c07276df38e2d</td>\n",
       "      <td>Великий Новгород</td>\n",
       "      <td>NaN</td>\n",
       "    </tr>\n",
       "  </tbody>\n",
       "</table>\n",
       "</div>"
      ],
      "text/plain": [
       "    id_                                id              city    birthday\n",
       "0  1325  35e8a1938b9a33d5e45c8f4451c4309a               NaN         NaN\n",
       "1  7503  6c3e52be632fc50de9640147e4017dcd            Москва  1979-10-23\n",
       "2  8972  2033122d7c9b24b36eebc468d5259642               NaN         NaN\n",
       "3  9235  a6ae278c0eab719b3784e5ea147c128f            Москва         NaN\n",
       "4  9588  51b25c9afd20d178ef3c07276df38e2d  Великий Новгород         NaN"
      ]
     },
     "execution_count": 25,
     "metadata": {},
     "output_type": "execute_result"
    }
   ],
   "source": [
    "students_df = pd.read_csv('Data/students.csv')\n",
    "students_df.head()"
   ]
  },
  {
   "cell_type": "code",
   "execution_count": 26,
   "metadata": {},
   "outputs": [
    {
     "name": "stdout",
     "output_type": "stream",
     "text": [
      "<class 'pandas.core.frame.DataFrame'>\n",
      "RangeIndex: 43830 entries, 0 to 43829\n",
      "Data columns (total 4 columns):\n",
      " #   Column    Non-Null Count  Dtype \n",
      "---  ------    --------------  ----- \n",
      " 0   id_       43830 non-null  int64 \n",
      " 1   id        43830 non-null  object\n",
      " 2   city      13161 non-null  object\n",
      " 3   birthday  25499 non-null  object\n",
      "dtypes: int64(1), object(3)\n",
      "memory usage: 1.3+ MB\n"
     ]
    }
   ],
   "source": [
    "students_df.info()"
   ]
  },
  {
   "cell_type": "code",
   "execution_count": 27,
   "metadata": {},
   "outputs": [
    {
     "data": {
      "text/html": [
       "<div>\n",
       "<style scoped>\n",
       "    .dataframe tbody tr th:only-of-type {\n",
       "        vertical-align: middle;\n",
       "    }\n",
       "\n",
       "    .dataframe tbody tr th {\n",
       "        vertical-align: top;\n",
       "    }\n",
       "\n",
       "    .dataframe thead th {\n",
       "        text-align: right;\n",
       "    }\n",
       "</style>\n",
       "<table border=\"1\" class=\"dataframe\">\n",
       "  <thead>\n",
       "    <tr style=\"text-align: right;\">\n",
       "      <th></th>\n",
       "      <th>id_</th>\n",
       "      <th>id</th>\n",
       "      <th>city</th>\n",
       "      <th>birthday</th>\n",
       "    </tr>\n",
       "  </thead>\n",
       "  <tbody>\n",
       "  </tbody>\n",
       "</table>\n",
       "</div>"
      ],
      "text/plain": [
       "Empty DataFrame\n",
       "Columns: [id_, id, city, birthday]\n",
       "Index: []"
      ]
     },
     "execution_count": 27,
     "metadata": {},
     "output_type": "execute_result"
    }
   ],
   "source": [
    "students_df[students_df.duplicated()]"
   ]
  },
  {
   "cell_type": "markdown",
   "metadata": {},
   "source": [
    "### Merge"
   ]
  },
  {
   "cell_type": "code",
   "execution_count": 28,
   "metadata": {},
   "outputs": [
    {
     "name": "stdout",
     "output_type": "stream",
     "text": [
      "<class 'pandas.core.frame.DataFrame'>\n",
      "RangeIndex: 350677 entries, 0 to 350676\n",
      "Data columns (total 8 columns):\n",
      " #   Column         Non-Null Count   Dtype \n",
      "---  ------         --------------   ----- \n",
      " 0   progress_id    350677 non-null  object\n",
      " 1   module_number  350677 non-null  int64 \n",
      " 2   lesson_number  350677 non-null  int64 \n",
      " 3   status         350677 non-null  object\n",
      " 4   start_date     350677 non-null  object\n",
      " 5   finish_date    334508 non-null  object\n",
      " 6   student_id     350677 non-null  object\n",
      " 7   course_id      350677 non-null  object\n",
      "dtypes: int64(2), object(6)\n",
      "memory usage: 21.4+ MB\n"
     ]
    }
   ],
   "source": [
    "merge1_df = progress_phases_df.merge(progresses_df, how='inner', left_on='progress_id', right_on='progress_id')\n",
    "merge1_df.info()"
   ]
  },
  {
   "cell_type": "code",
   "execution_count": 29,
   "metadata": {},
   "outputs": [
    {
     "name": "stdout",
     "output_type": "stream",
     "text": [
      "<class 'pandas.core.frame.DataFrame'>\n",
      "RangeIndex: 350677 entries, 0 to 350676\n",
      "Data columns (total 13 columns):\n",
      " #   Column         Non-Null Count   Dtype \n",
      "---  ------         --------------   ----- \n",
      " 0   progress_id    350677 non-null  object\n",
      " 1   module_number  350677 non-null  int64 \n",
      " 2   lesson_number  350677 non-null  int64 \n",
      " 3   status         350677 non-null  object\n",
      " 4   start_date     350677 non-null  object\n",
      " 5   finish_date    334508 non-null  object\n",
      " 6   student_id     350677 non-null  object\n",
      " 7   course_id      350677 non-null  object\n",
      " 8   module_title   350677 non-null  object\n",
      " 9   lesson_title   350677 non-null  object\n",
      " 10  lesson_token   350677 non-null  object\n",
      " 11  is_video       350677 non-null  bool  \n",
      " 12  is_homework    350677 non-null  bool  \n",
      "dtypes: bool(2), int64(2), object(9)\n",
      "memory usage: 30.1+ MB\n"
     ]
    }
   ],
   "source": [
    "merge2_df = merge1_df.merge(course_contents_df, how='inner', left_on=['course_id', 'module_number', 'lesson_number'], right_on=['course_id', 'module_number', 'lesson_number'])\n",
    "merge2_df.info()"
   ]
  },
  {
   "cell_type": "code",
   "execution_count": 30,
   "metadata": {
    "scrolled": false
   },
   "outputs": [
    {
     "name": "stdout",
     "output_type": "stream",
     "text": [
      "<class 'pandas.core.frame.DataFrame'>\n",
      "RangeIndex: 350677 entries, 0 to 350676\n",
      "Data columns (total 15 columns):\n",
      " #   Column         Non-Null Count   Dtype \n",
      "---  ------         --------------   ----- \n",
      " 0   progress_id    350677 non-null  object\n",
      " 1   module_number  350677 non-null  int64 \n",
      " 2   lesson_number  350677 non-null  int64 \n",
      " 3   status         350677 non-null  object\n",
      " 4   start_date     350677 non-null  object\n",
      " 5   finish_date    334508 non-null  object\n",
      " 6   student_id     350677 non-null  object\n",
      " 7   course_id      350677 non-null  object\n",
      " 8   module_title   350677 non-null  object\n",
      " 9   lesson_title   350677 non-null  object\n",
      " 10  lesson_token   350677 non-null  object\n",
      " 11  is_video       350677 non-null  bool  \n",
      " 12  is_homework    350677 non-null  bool  \n",
      " 13  title          350677 non-null  object\n",
      " 14  field          350677 non-null  object\n",
      "dtypes: bool(2), int64(2), object(11)\n",
      "memory usage: 35.4+ MB\n"
     ]
    }
   ],
   "source": [
    "all_attributes_df = merge2_df.merge(courses_df, how='inner', left_on='course_id', right_on='course_id')\n",
    "all_attributes_df.info()"
   ]
  },
  {
   "cell_type": "markdown",
   "metadata": {},
   "source": [
    "### students - birthday"
   ]
  },
  {
   "cell_type": "code",
   "execution_count": 31,
   "metadata": {
    "scrolled": false
   },
   "outputs": [
    {
     "name": "stdout",
     "output_type": "stream",
     "text": [
      "<class 'pandas.core.frame.DataFrame'>\n",
      "Index: 25499 entries, 1 to 43828\n",
      "Data columns (total 4 columns):\n",
      " #   Column    Non-Null Count  Dtype \n",
      "---  ------    --------------  ----- \n",
      " 0   id_       25499 non-null  int64 \n",
      " 1   id        25499 non-null  object\n",
      " 2   city      11362 non-null  object\n",
      " 3   birthday  25499 non-null  object\n",
      "dtypes: int64(1), object(3)\n",
      "memory usage: 996.1+ KB\n"
     ]
    }
   ],
   "source": [
    "students_correct_df = students_df.dropna(subset=['birthday'])\n",
    "students_correct_df.info()"
   ]
  },
  {
   "cell_type": "code",
   "execution_count": 28,
   "metadata": {},
   "outputs": [],
   "source": [
    "# НЕОБХОДИМО ПОЧИСТИТЬ ДАТЫ (СУЩЕСТВУЮТ ВЫБРОСЫ)"
   ]
  },
  {
   "cell_type": "markdown",
   "metadata": {},
   "source": [
    "### 1.A"
   ]
  },
  {
   "cell_type": "code",
   "execution_count": 32,
   "metadata": {},
   "outputs": [
    {
     "data": {
      "text/plain": [
       "15"
      ]
     },
     "execution_count": 32,
     "metadata": {},
     "output_type": "execute_result"
    }
   ],
   "source": [
    "all_attributes_df.course_id.nunique()"
   ]
  },
  {
   "cell_type": "markdown",
   "metadata": {},
   "source": [
    "### 1.B"
   ]
  },
  {
   "cell_type": "code",
   "execution_count": 33,
   "metadata": {},
   "outputs": [
    {
     "data": {
      "text/html": [
       "<div>\n",
       "<style scoped>\n",
       "    .dataframe tbody tr th:only-of-type {\n",
       "        vertical-align: middle;\n",
       "    }\n",
       "\n",
       "    .dataframe tbody tr th {\n",
       "        vertical-align: top;\n",
       "    }\n",
       "\n",
       "    .dataframe thead th {\n",
       "        text-align: right;\n",
       "    }\n",
       "</style>\n",
       "<table border=\"1\" class=\"dataframe\">\n",
       "  <thead>\n",
       "    <tr style=\"text-align: right;\">\n",
       "      <th></th>\n",
       "      <th>title</th>\n",
       "      <th>count_modules</th>\n",
       "    </tr>\n",
       "  </thead>\n",
       "  <tbody>\n",
       "    <tr>\n",
       "      <th>0</th>\n",
       "      <td>Excel Базовый</td>\n",
       "      <td>9</td>\n",
       "    </tr>\n",
       "    <tr>\n",
       "      <th>1</th>\n",
       "      <td>Java-разработчик</td>\n",
       "      <td>17</td>\n",
       "    </tr>\n",
       "    <tr>\n",
       "      <th>2</th>\n",
       "      <td>Java-разработчик c нуля</td>\n",
       "      <td>9</td>\n",
       "    </tr>\n",
       "    <tr>\n",
       "      <th>3</th>\n",
       "      <td>JavaScript с нуля</td>\n",
       "      <td>18</td>\n",
       "    </tr>\n",
       "    <tr>\n",
       "      <th>4</th>\n",
       "      <td>PHP-разработчик с 0 до PRO. Часть 1</td>\n",
       "      <td>8</td>\n",
       "    </tr>\n",
       "    <tr>\n",
       "      <th>5</th>\n",
       "      <td>SMM-маркетолог от А до Я</td>\n",
       "      <td>11</td>\n",
       "    </tr>\n",
       "    <tr>\n",
       "      <th>6</th>\n",
       "      <td>UX-дизайн</td>\n",
       "      <td>20</td>\n",
       "    </tr>\n",
       "    <tr>\n",
       "      <th>7</th>\n",
       "      <td>Анимация интерфейсов</td>\n",
       "      <td>21</td>\n",
       "    </tr>\n",
       "    <tr>\n",
       "      <th>8</th>\n",
       "      <td>Веб-вёрстка для начинающих 2.0</td>\n",
       "      <td>8</td>\n",
       "    </tr>\n",
       "    <tr>\n",
       "      <th>9</th>\n",
       "      <td>Веб-дизайн PRO 2.0</td>\n",
       "      <td>17</td>\n",
       "    </tr>\n",
       "    <tr>\n",
       "      <th>10</th>\n",
       "      <td>Веб-дизайн Базовый</td>\n",
       "      <td>17</td>\n",
       "    </tr>\n",
       "    <tr>\n",
       "      <th>11</th>\n",
       "      <td>Веб-дизайн с нуля 2.0</td>\n",
       "      <td>19</td>\n",
       "    </tr>\n",
       "    <tr>\n",
       "      <th>12</th>\n",
       "      <td>Веб-разработчик</td>\n",
       "      <td>20</td>\n",
       "    </tr>\n",
       "    <tr>\n",
       "      <th>13</th>\n",
       "      <td>Интернет-маркетолог от Ingate</td>\n",
       "      <td>18</td>\n",
       "    </tr>\n",
       "    <tr>\n",
       "      <th>14</th>\n",
       "      <td>Руководитель digital-проектов</td>\n",
       "      <td>17</td>\n",
       "    </tr>\n",
       "  </tbody>\n",
       "</table>\n",
       "</div>"
      ],
      "text/plain": [
       "                                  title  count_modules\n",
       "0                         Excel Базовый              9\n",
       "1                      Java-разработчик             17\n",
       "2               Java-разработчик c нуля              9\n",
       "3                     JavaScript с нуля             18\n",
       "4   PHP-разработчик с 0 до PRO. Часть 1              8\n",
       "5              SMM-маркетолог от А до Я             11\n",
       "6                             UX-дизайн             20\n",
       "7                  Анимация интерфейсов             21\n",
       "8        Веб-вёрстка для начинающих 2.0              8\n",
       "9                    Веб-дизайн PRO 2.0             17\n",
       "10                   Веб-дизайн Базовый             17\n",
       "11                Веб-дизайн с нуля 2.0             19\n",
       "12                      Веб-разработчик             20\n",
       "13        Интернет-маркетолог от Ingate             18\n",
       "14        Руководитель digital-проектов             17"
      ]
     },
     "execution_count": 33,
     "metadata": {},
     "output_type": "execute_result"
    }
   ],
   "source": [
    "all_attributes_df.groupby(['title']).module_number.nunique().reset_index(name='count_modules')"
   ]
  },
  {
   "cell_type": "markdown",
   "metadata": {},
   "source": [
    "### 1.C"
   ]
  },
  {
   "cell_type": "code",
   "execution_count": 34,
   "metadata": {},
   "outputs": [
    {
     "data": {
      "text/html": [
       "<div>\n",
       "<style scoped>\n",
       "    .dataframe tbody tr th:only-of-type {\n",
       "        vertical-align: middle;\n",
       "    }\n",
       "\n",
       "    .dataframe tbody tr th {\n",
       "        vertical-align: top;\n",
       "    }\n",
       "\n",
       "    .dataframe thead th {\n",
       "        text-align: right;\n",
       "    }\n",
       "</style>\n",
       "<table border=\"1\" class=\"dataframe\">\n",
       "  <thead>\n",
       "    <tr style=\"text-align: right;\">\n",
       "      <th></th>\n",
       "      <th>title</th>\n",
       "      <th>module_title</th>\n",
       "      <th>count_lessons</th>\n",
       "    </tr>\n",
       "  </thead>\n",
       "  <tbody>\n",
       "    <tr>\n",
       "      <th>0</th>\n",
       "      <td>Excel Базовый</td>\n",
       "      <td>Визуализация данных Excel</td>\n",
       "      <td>5</td>\n",
       "    </tr>\n",
       "    <tr>\n",
       "      <th>1</th>\n",
       "      <td>Excel Базовый</td>\n",
       "      <td>Основной функционал Excel</td>\n",
       "      <td>11</td>\n",
       "    </tr>\n",
       "    <tr>\n",
       "      <th>2</th>\n",
       "      <td>Excel Базовый</td>\n",
       "      <td>Основной функционал Excel (продолжение)</td>\n",
       "      <td>7</td>\n",
       "    </tr>\n",
       "    <tr>\n",
       "      <th>3</th>\n",
       "      <td>Excel Базовый</td>\n",
       "      <td>Сводные таблицы Excel</td>\n",
       "      <td>5</td>\n",
       "    </tr>\n",
       "    <tr>\n",
       "      <th>4</th>\n",
       "      <td>Excel Базовый</td>\n",
       "      <td>Формулы и функции Excel. Более сложные формулы</td>\n",
       "      <td>5</td>\n",
       "    </tr>\n",
       "    <tr>\n",
       "      <th>...</th>\n",
       "      <td>...</td>\n",
       "      <td>...</td>\n",
       "      <td>...</td>\n",
       "    </tr>\n",
       "    <tr>\n",
       "      <th>224</th>\n",
       "      <td>Руководитель digital-проектов</td>\n",
       "      <td>Решение факапов. Lean/TOC. Обзор.</td>\n",
       "      <td>5</td>\n",
       "    </tr>\n",
       "    <tr>\n",
       "      <th>225</th>\n",
       "      <td>Руководитель digital-проектов</td>\n",
       "      <td>Требовательность digital-продюсера</td>\n",
       "      <td>4</td>\n",
       "    </tr>\n",
       "    <tr>\n",
       "      <th>226</th>\n",
       "      <td>Руководитель digital-проектов</td>\n",
       "      <td>Управление временем</td>\n",
       "      <td>4</td>\n",
       "    </tr>\n",
       "    <tr>\n",
       "      <th>227</th>\n",
       "      <td>Руководитель digital-проектов</td>\n",
       "      <td>Управление дизайнерами. Разработка дизайна по ...</td>\n",
       "      <td>7</td>\n",
       "    </tr>\n",
       "    <tr>\n",
       "      <th>228</th>\n",
       "      <td>Руководитель digital-проектов</td>\n",
       "      <td>Экологичный путь менеджера</td>\n",
       "      <td>4</td>\n",
       "    </tr>\n",
       "  </tbody>\n",
       "</table>\n",
       "<p>229 rows × 3 columns</p>\n",
       "</div>"
      ],
      "text/plain": [
       "                             title  \\\n",
       "0                    Excel Базовый   \n",
       "1                    Excel Базовый   \n",
       "2                    Excel Базовый   \n",
       "3                    Excel Базовый   \n",
       "4                    Excel Базовый   \n",
       "..                             ...   \n",
       "224  Руководитель digital-проектов   \n",
       "225  Руководитель digital-проектов   \n",
       "226  Руководитель digital-проектов   \n",
       "227  Руководитель digital-проектов   \n",
       "228  Руководитель digital-проектов   \n",
       "\n",
       "                                          module_title  count_lessons  \n",
       "0                            Визуализация данных Excel              5  \n",
       "1                            Основной функционал Excel             11  \n",
       "2              Основной функционал Excel (продолжение)              7  \n",
       "3                                Сводные таблицы Excel              5  \n",
       "4       Формулы и функции Excel. Более сложные формулы              5  \n",
       "..                                                 ...            ...  \n",
       "224                  Решение факапов. Lean/TOC. Обзор.              5  \n",
       "225                 Требовательность digital-продюсера              4  \n",
       "226                                Управление временем              4  \n",
       "227  Управление дизайнерами. Разработка дизайна по ...              7  \n",
       "228                         Экологичный путь менеджера              4  \n",
       "\n",
       "[229 rows x 3 columns]"
      ]
     },
     "execution_count": 34,
     "metadata": {},
     "output_type": "execute_result"
    }
   ],
   "source": [
    "all_attributes_df.groupby(['title', 'module_title']).lesson_number.nunique().reset_index(name='count_lessons')"
   ]
  },
  {
   "cell_type": "markdown",
   "metadata": {},
   "source": [
    "### 1.D"
   ]
  },
  {
   "cell_type": "code",
   "execution_count": 35,
   "metadata": {
    "scrolled": false
   },
   "outputs": [
    {
     "data": {
      "text/html": [
       "<div>\n",
       "<style scoped>\n",
       "    .dataframe tbody tr th:only-of-type {\n",
       "        vertical-align: middle;\n",
       "    }\n",
       "\n",
       "    .dataframe tbody tr th {\n",
       "        vertical-align: top;\n",
       "    }\n",
       "\n",
       "    .dataframe thead th {\n",
       "        text-align: right;\n",
       "    }\n",
       "</style>\n",
       "<table border=\"1\" class=\"dataframe\">\n",
       "  <thead>\n",
       "    <tr style=\"text-align: right;\">\n",
       "      <th></th>\n",
       "      <th>title</th>\n",
       "      <th>median_lessons</th>\n",
       "    </tr>\n",
       "  </thead>\n",
       "  <tbody>\n",
       "    <tr>\n",
       "      <th>0</th>\n",
       "      <td>Excel Базовый</td>\n",
       "      <td>4.0</td>\n",
       "    </tr>\n",
       "    <tr>\n",
       "      <th>1</th>\n",
       "      <td>Java-разработчик</td>\n",
       "      <td>4.0</td>\n",
       "    </tr>\n",
       "    <tr>\n",
       "      <th>2</th>\n",
       "      <td>Java-разработчик c нуля</td>\n",
       "      <td>5.0</td>\n",
       "    </tr>\n",
       "    <tr>\n",
       "      <th>3</th>\n",
       "      <td>JavaScript с нуля</td>\n",
       "      <td>4.0</td>\n",
       "    </tr>\n",
       "    <tr>\n",
       "      <th>4</th>\n",
       "      <td>PHP-разработчик с 0 до PRO. Часть 1</td>\n",
       "      <td>3.0</td>\n",
       "    </tr>\n",
       "    <tr>\n",
       "      <th>5</th>\n",
       "      <td>SMM-маркетолог от А до Я</td>\n",
       "      <td>3.0</td>\n",
       "    </tr>\n",
       "    <tr>\n",
       "      <th>6</th>\n",
       "      <td>UX-дизайн</td>\n",
       "      <td>3.0</td>\n",
       "    </tr>\n",
       "    <tr>\n",
       "      <th>7</th>\n",
       "      <td>Анимация интерфейсов</td>\n",
       "      <td>2.0</td>\n",
       "    </tr>\n",
       "    <tr>\n",
       "      <th>8</th>\n",
       "      <td>Веб-вёрстка для начинающих 2.0</td>\n",
       "      <td>4.0</td>\n",
       "    </tr>\n",
       "    <tr>\n",
       "      <th>9</th>\n",
       "      <td>Веб-дизайн PRO 2.0</td>\n",
       "      <td>3.0</td>\n",
       "    </tr>\n",
       "    <tr>\n",
       "      <th>10</th>\n",
       "      <td>Веб-дизайн Базовый</td>\n",
       "      <td>3.0</td>\n",
       "    </tr>\n",
       "    <tr>\n",
       "      <th>11</th>\n",
       "      <td>Веб-дизайн с нуля 2.0</td>\n",
       "      <td>3.0</td>\n",
       "    </tr>\n",
       "    <tr>\n",
       "      <th>12</th>\n",
       "      <td>Веб-разработчик</td>\n",
       "      <td>1.0</td>\n",
       "    </tr>\n",
       "    <tr>\n",
       "      <th>13</th>\n",
       "      <td>Интернет-маркетолог от Ingate</td>\n",
       "      <td>5.0</td>\n",
       "    </tr>\n",
       "    <tr>\n",
       "      <th>14</th>\n",
       "      <td>Руководитель digital-проектов</td>\n",
       "      <td>3.0</td>\n",
       "    </tr>\n",
       "  </tbody>\n",
       "</table>\n",
       "</div>"
      ],
      "text/plain": [
       "                                  title  median_lessons\n",
       "0                         Excel Базовый             4.0\n",
       "1                      Java-разработчик             4.0\n",
       "2               Java-разработчик c нуля             5.0\n",
       "3                     JavaScript с нуля             4.0\n",
       "4   PHP-разработчик с 0 до PRO. Часть 1             3.0\n",
       "5              SMM-маркетолог от А до Я             3.0\n",
       "6                             UX-дизайн             3.0\n",
       "7                  Анимация интерфейсов             2.0\n",
       "8        Веб-вёрстка для начинающих 2.0             4.0\n",
       "9                    Веб-дизайн PRO 2.0             3.0\n",
       "10                   Веб-дизайн Базовый             3.0\n",
       "11                Веб-дизайн с нуля 2.0             3.0\n",
       "12                      Веб-разработчик             1.0\n",
       "13        Интернет-маркетолог от Ingate             5.0\n",
       "14        Руководитель digital-проектов             3.0"
      ]
     },
     "execution_count": 35,
     "metadata": {},
     "output_type": "execute_result"
    }
   ],
   "source": [
    "all_attributes_df.groupby(['title']).lesson_number.agg(['median']).rename(columns={'median': 'median_lessons'}).reset_index()"
   ]
  },
  {
   "cell_type": "markdown",
   "metadata": {},
   "source": [
    "### 1.E"
   ]
  },
  {
   "cell_type": "code",
   "execution_count": 36,
   "metadata": {
    "scrolled": false
   },
   "outputs": [
    {
     "data": {
      "text/html": [
       "<div>\n",
       "<style scoped>\n",
       "    .dataframe tbody tr th:only-of-type {\n",
       "        vertical-align: middle;\n",
       "    }\n",
       "\n",
       "    .dataframe tbody tr th {\n",
       "        vertical-align: top;\n",
       "    }\n",
       "\n",
       "    .dataframe thead th {\n",
       "        text-align: right;\n",
       "    }\n",
       "</style>\n",
       "<table border=\"1\" class=\"dataframe\">\n",
       "  <thead>\n",
       "    <tr style=\"text-align: right;\">\n",
       "      <th></th>\n",
       "      <th>title</th>\n",
       "      <th>count_students</th>\n",
       "    </tr>\n",
       "  </thead>\n",
       "  <tbody>\n",
       "    <tr>\n",
       "      <th>0</th>\n",
       "      <td>Excel Базовый</td>\n",
       "      <td>782</td>\n",
       "    </tr>\n",
       "    <tr>\n",
       "      <th>1</th>\n",
       "      <td>Java-разработчик</td>\n",
       "      <td>763</td>\n",
       "    </tr>\n",
       "    <tr>\n",
       "      <th>2</th>\n",
       "      <td>Java-разработчик c нуля</td>\n",
       "      <td>581</td>\n",
       "    </tr>\n",
       "    <tr>\n",
       "      <th>3</th>\n",
       "      <td>JavaScript с нуля</td>\n",
       "      <td>966</td>\n",
       "    </tr>\n",
       "    <tr>\n",
       "      <th>4</th>\n",
       "      <td>PHP-разработчик с 0 до PRO. Часть 1</td>\n",
       "      <td>854</td>\n",
       "    </tr>\n",
       "    <tr>\n",
       "      <th>5</th>\n",
       "      <td>SMM-маркетолог от А до Я</td>\n",
       "      <td>506</td>\n",
       "    </tr>\n",
       "    <tr>\n",
       "      <th>6</th>\n",
       "      <td>UX-дизайн</td>\n",
       "      <td>1151</td>\n",
       "    </tr>\n",
       "    <tr>\n",
       "      <th>7</th>\n",
       "      <td>Анимация интерфейсов</td>\n",
       "      <td>598</td>\n",
       "    </tr>\n",
       "    <tr>\n",
       "      <th>8</th>\n",
       "      <td>Веб-вёрстка для начинающих 2.0</td>\n",
       "      <td>2004</td>\n",
       "    </tr>\n",
       "    <tr>\n",
       "      <th>9</th>\n",
       "      <td>Веб-дизайн PRO 2.0</td>\n",
       "      <td>1711</td>\n",
       "    </tr>\n",
       "    <tr>\n",
       "      <th>10</th>\n",
       "      <td>Веб-дизайн Базовый</td>\n",
       "      <td>518</td>\n",
       "    </tr>\n",
       "    <tr>\n",
       "      <th>11</th>\n",
       "      <td>Веб-дизайн с нуля 2.0</td>\n",
       "      <td>2014</td>\n",
       "    </tr>\n",
       "    <tr>\n",
       "      <th>12</th>\n",
       "      <td>Веб-разработчик</td>\n",
       "      <td>628</td>\n",
       "    </tr>\n",
       "    <tr>\n",
       "      <th>13</th>\n",
       "      <td>Интернет-маркетолог от Ingate</td>\n",
       "      <td>2168</td>\n",
       "    </tr>\n",
       "    <tr>\n",
       "      <th>14</th>\n",
       "      <td>Руководитель digital-проектов</td>\n",
       "      <td>685</td>\n",
       "    </tr>\n",
       "  </tbody>\n",
       "</table>\n",
       "</div>"
      ],
      "text/plain": [
       "                                  title  count_students\n",
       "0                         Excel Базовый             782\n",
       "1                      Java-разработчик             763\n",
       "2               Java-разработчик c нуля             581\n",
       "3                     JavaScript с нуля             966\n",
       "4   PHP-разработчик с 0 до PRO. Часть 1             854\n",
       "5              SMM-маркетолог от А до Я             506\n",
       "6                             UX-дизайн            1151\n",
       "7                  Анимация интерфейсов             598\n",
       "8        Веб-вёрстка для начинающих 2.0            2004\n",
       "9                    Веб-дизайн PRO 2.0            1711\n",
       "10                   Веб-дизайн Базовый             518\n",
       "11                Веб-дизайн с нуля 2.0            2014\n",
       "12                      Веб-разработчик             628\n",
       "13        Интернет-маркетолог от Ingate            2168\n",
       "14        Руководитель digital-проектов             685"
      ]
     },
     "execution_count": 36,
     "metadata": {},
     "output_type": "execute_result"
    }
   ],
   "source": [
    "all_attributes_df.groupby(['title']).student_id.nunique().reset_index(name='count_students')"
   ]
  },
  {
   "cell_type": "markdown",
   "metadata": {},
   "source": [
    "### 1.F"
   ]
  },
  {
   "cell_type": "code",
   "execution_count": 34,
   "metadata": {},
   "outputs": [],
   "source": [
    "# ПЕРЕД ЭТИМ НЕОБХОДИМО ПОЧИСИТЬ ДАННЫЕ И СОЗДАТЬ AGE\n",
    "# students_correct_df.age.agg(['min', 'max', 'median', 'mean'])"
   ]
  },
  {
   "cell_type": "markdown",
   "metadata": {},
   "source": [
    "### 1.G"
   ]
  },
  {
   "cell_type": "code",
   "execution_count": null,
   "metadata": {},
   "outputs": [],
   "source": []
  },
  {
   "cell_type": "markdown",
   "metadata": {
    "id": "R7ScD_tKDh8f"
   },
   "source": [
    "## 2. Расчет потенциальной нагрузки на преподавателей\n",
    "\n",
    "1. **(p)** Рассчитать количество студентов в каждом месяце для каждого курса, которые начинали выполнение первой домашней работы в каждом месяце за всю историю (каждый месяц в диапазоне от марта 2016 года до июля 2019 года включительно). При этом расчёт идёт по первой домашней работе по программе курса (не просто по любой работе, которую конкретный студент начал первой). Обратите внимание, что на разных курсах разный номер модуля, где это ДЗ лежит, но при этом нужно придумать, как лаконично отфильтровать данные по этой информации. Здесь важно не прописывать вручную в запросе, где на каком модуле лежит первое ДЗ, а попробовать придумать, как оптимизировать этот процесс, чтобы наше решение работало даже если бы у нас было не 15 курсов, а 15 тысяч курсов, и каждый со своим номером, где лежит первое ДЗ.\n",
    "\n",
    "<details>\n",
    "<summary><b>Hint #1</b></summary>\n",
    "    <p>\n",
    "В этом задании для оптимального решения нужна фильтрация одного датасета по другому, которую можно выполнить через merge(). Первый датасет будет с «адресами» первых домашних работ на курсах в соответствии с их программой. Второй — датасет записями о домашних работах студентов.\n",
    "    </p>\n",
    "    <br>\n",
    "</details>\n",
    "<details>\n",
    "<summary><b>Hint #2</b></summary>\n",
    "    <p>\n",
    "Для создания датасета с «адресами» первых домашних работ на курсах в соответствии с их программой понадобится метод agg().\n",
    "    </p>\n",
    "    <br>\n",
    "</details>\n",
    "\n",
    "2. **(m)** На основании первого пункта построить line-graph с приростом студентов в каждом месяце для каждого курса. 15 графиков. Графики должны иметь заголовки, оси должны быть подписаны. Ticks нужно развернуть так, чтобы они были читаемы.\n",
    "3. **(m)** На основании первого пункта построить line-graph с несколькими линиями, отражающими прирост студентов в каждом месяце для каждого курса. 15 линий на графике. Ticks нужно развернуть так, чтобы они были читаемы. График должен иметь заголовок. Ось, отражающая прирост, должна быть подписана. Линия для каждого курса должна иметь свой цвет (нужна легенда). Рамок у графика быть не должно ⭐\n",
    "4. **(p)** Рассчитать количество прогрессов по выполнению домашних работ в каждом месяце за всю историю (каждый месяц в диапазоне от марта 2016 года до июля 2019 года включительно) для каждого курса. Учитывать, что выполнение домашнего задания может перетекать из одного месяца в другой (такие ДЗ надо включать в общее число прогрессов для всех месяцев, которые покрывает срок выполнения этих ДЗ).  Если у нас нет финишной даты, то мы можем либо учесть эту работу как нагрузку только в самом первом месяце, либо как нагрузку во всех месяцах с начала выполнения работы до даты, когда был выгружен датафрейм (последняя встречающаяся дата в дф). Таким образом, нам для каждого месяца по каждому курсу нужно посчитать количество домашних работ, которые пришлось проверять преподавателям.\n",
    "\n",
    "<details>\n",
    "<summary><b>Hint #1</b></summary>\n",
    "    <p>\n",
    "В этом задании для оптимального решения понадобятся методы date_range(), explode() из Pandas, а также модуль pandas.tseries.offsets и методы MonthEnd, MonthBegin и Day из него.\n",
    "    </p>\n",
    "    <br>\n",
    "</details>\n",
    "\n",
    "5. **(m)** Построить line-graph по четвёртому пункту. 15 графиков. Графики должны иметь заголовки, оси должны быть подписаны. Ticks нужно развернуть так, чтобы они были читаемы.\n",
    "6. **(m)** Построить один line-graph для всех курсов по четвёртому пункту. 15 линий на графике. Ticks нужно развернуть так, чтобы они были читаемы. График должен иметь заголовок. Ось, отражающая количество прогрессов, должна быть подписана. Линия для каждого курса должна иметь свой цвет (нужна легенда). Рамок у графика быть не должно ⭐\n",
    "7. На основании рассчитанных значений сделайте аналитический вывод (должен быть полным и покрывать все полученные выше метрики)."
   ]
  },
  {
   "cell_type": "code",
   "execution_count": 35,
   "metadata": {
    "id": "h82kZEzNDh8g"
   },
   "outputs": [],
   "source": [
    "### YOUR CODE HERE ###\n",
    "\n"
   ]
  },
  {
   "cell_type": "markdown",
   "metadata": {
    "id": "Mw5hOILSDh8g"
   },
   "source": [
    "## 3. Выявление проблемных модулей\n",
    "\n",
    "1. **(p)** Рассчитать минимальное, максимальное, среднее, медианное время прохождения каждого модуля (разность между временем начала и окончания выполнения домашней работы) для каждого курса. Если домашних заданий в модуле несколько, то считать разность между временем начала выполнения первой домашней работы и временем окончания выполнения последней домашней работы в модуле. Записи без финишной даты для этого пункта имеет смысл удалить\n",
    "2. **(m)** На основании первого пункта построить line-graph с медианным временем прохождения каждого модуля для каждого курса. 15 графиков. Графики должны иметь заголовки\n",
    "3. **(p)**  Чтобы выявить сезонность, посчитать медианное время выполнения домашней работы по месяцам (12 месяцев, январь-декабрь) для каждого курса. То есть посчитать для каждого месяца, медианное время выполнения работ, которые были начаты в этом месяце.\n",
    "4. **(m)** На основании третьего пункта построить line-graph, на который будут нанесены линии для каждого курса с медианным временем выполнения домашней работы по месяцам. 15 линий на графике. График должен иметь заголовок. Ось, отражающая время прохождения, должна быть подписана. Линия для каждого курса должна иметь свой цвет (нужна легенда). Рамок у графика быть не должно ⭐\n",
    "5. На основании рассчитанных значений сделайте аналитический вывод (должен быть полным и покрывать все полученные выше метрики)"
   ]
  },
  {
   "cell_type": "code",
   "execution_count": 36,
   "metadata": {
    "id": "haXse14_Dh8h"
   },
   "outputs": [],
   "source": [
    "### YOUR CODE HERE ###\n",
    "\n",
    "\n"
   ]
  },
  {
   "cell_type": "markdown",
   "metadata": {
    "id": "t6D-tC8jDh8i"
   },
   "source": [
    "## 4. Расчет конверсии\n",
    "\n",
    "1. **(p)** Посчитать конверсию перехода студентов из одного модуля в другой на каждом курсе. Формула: отношение количества студентов, приступивших к выполнению домашнего задания в этом модуле (если ДЗ в модуле несколько, то считать по первому ДЗ в модуле), к количеству студентов, сдавших задание в предыдущем модуле (если ДЗ в модуле несколько, то считать по последнему ДЗ в модуле).\n",
    "<details>\n",
    "<summary><b>Hint #1</b></summary>\n",
    "    <p>\n",
    "Конверсию мы считаем как отношение домашних работ, которые в целом были начаты (здесь мы считаем не только работы в статусе done, но и работы, находящиеся в любом другом статусе) в этом модуле, к количеству работ, которые были полностью сданы в предыдущем модуле (то есть все они находятся в статусе done). \n",
    "    </p>\n",
    "    <br>\n",
    "</details>\n",
    "2. **(m)** Постройте bar-chart, отражающий конверсию перехода студентов из одного модуля в другой на каждом курсе. График должен иметь заголовок. Ticks нужно развернуть так, чтобы они были читаемы.\n",
    "3. **(m)** Постройте горизонтальный (столбцы должны располагаться горизонтально) bar-chart, отражающий конверсию перехода студентов из одного модуля в другой на каждом курсе. 15 графиков. Графики должны иметь заголовки. Ticks должны содержать номер и название модуля. Цвет столбцов графиков должен содержать информацию о сфере, к которой относится курс (нужна легенда). Прозрачность должна стоять на отметке 0.1. На графики должна быть нанесена линия медианы конверсии для каждого курса. У медианы должен быть свой цвет. Рамок у графиков быть не должно ⭐\n",
    "4. На основании рассчитанных значений сделайте аналитический вывод (должен быть полным и покрывать все полученные выше метрики)."
   ]
  },
  {
   "cell_type": "code",
   "execution_count": 37,
   "metadata": {
    "id": "Q_BnvL37Dh8i"
   },
   "outputs": [],
   "source": [
    "### YOUR CODE HERE ###\n",
    "\n",
    "\n"
   ]
  },
  {
   "cell_type": "markdown",
   "metadata": {
    "id": "r0kwfLi-Dh8j"
   },
   "source": [
    "## 5. Метрика успеваемости \n",
    "\n",
    "&nbsp;&nbsp;&nbsp;&nbsp;*(необязательное задание)*\n",
    "\n",
    "Иногда студенты берут курсы, которые оказываются для них неподъёмными. Это может быть как по причинам недостаточной изначальной подготовки, так и по причинам, связанным с низкой мотивацией студента. Для улучшения качества контента полезно выявить причину. На основании имеющихся данных придумайте метрику успеваемости студента. **Обоснуйте её.** Выявите таких студентов на каждом курсе, чтобы предоставить продюсерам список проблемных студентов. "
   ]
  },
  {
   "cell_type": "code",
   "execution_count": 38,
   "metadata": {
    "id": "uVtWQOUgDh8j"
   },
   "outputs": [],
   "source": [
    "### YOUR CODE HERE ###\n",
    "\n",
    "\n"
   ]
  }
 ],
 "metadata": {
  "colab": {
   "collapsed_sections": [],
   "provenance": []
  },
  "kernelspec": {
   "display_name": "Python 3 (ipykernel)",
   "language": "python",
   "name": "python3"
  },
  "language_info": {
   "codemirror_mode": {
    "name": "ipython",
    "version": 3
   },
   "file_extension": ".py",
   "mimetype": "text/x-python",
   "name": "python",
   "nbconvert_exporter": "python",
   "pygments_lexer": "ipython3",
   "version": "3.10.12"
  }
 },
 "nbformat": 4,
 "nbformat_minor": 1
}
